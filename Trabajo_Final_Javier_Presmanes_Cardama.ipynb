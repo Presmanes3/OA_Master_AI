{
  "cells": [
    {
      "cell_type": "markdown",
      "metadata": {
        "id": "view-in-github",
        "colab_type": "text"
      },
      "source": [
        "<a href=\"https://colab.research.google.com/github/Presmanes3/OA_Master_AI/blob/main/Trabajo_Final_Javier_Presmanes_Cardama.ipynb\" target=\"_parent\"><img src=\"https://colab.research.google.com/assets/colab-badge.svg\" alt=\"Open In Colab\"/></a>"
      ]
    },
    {
      "cell_type": "markdown",
      "metadata": {
        "id": "hVbXYX-RfPWh"
      },
      "source": [
        "# Algoritmos de optimización - Seminario<br>\n",
        "Nombre y Apellidos: Javier Presmanes Cardama\n",
        "\n",
        "Url: https://github.com/Presmanes3/OA_Master_AI/blame/main/Trabajo_Final_Javier_Presmanes_Cardama.ipynb\n",
        "\n",
        "Problema: 3. Combinar cifras y operaciones\n",
        "\n",
        "Descripción del problema:(copiar enunciado)\n",
        "\n",
        "- El problema consiste en analizar el siguiente problema y diseñar un algoritmo que lo resuelva\n",
        "\n",
        "- Disponemos de las 9 cifras del 1 al 9 (excluimos el cero) y de los 4 signos básicos de las operaciones fundamentales: suma(+), resta( resta(--), multiplicación(*) y\n",
        "\n",
        "- Debemos combinarlos alternativamente sin repetir ninguno de ellos para obtener una cantidad dada. Un ejemplo sería para obtener el 4:\n",
        "\n",
        "$$4+2-6/3*1 = 4$$\n",
        "\n",
        "- Debe analizarse el problema para encontrar todos los valores enteros posibles planteando las\n",
        "siguientes cuestiones:\n",
        "  - ¿Qué valor máximo y mínimo se pueden obtener según las condiciones del problema?\n",
        "  - ¿Es posible encontrar t odos los valores enteros posibles entre dicho mínimo y máximo ?\n",
        "\n",
        "\n",
        "- Nota: Es posible usar la función de python “eval ” para evaluar una\n",
        "\n",
        "(*) La respuesta es obligatoria\n",
        "\n",
        "\n",
        "\n",
        "\n",
        "\n",
        "                                        "
      ]
    },
    {
      "cell_type": "code",
      "execution_count": 1,
      "metadata": {
        "id": "z6wBgtkWpw0w"
      },
      "outputs": [],
      "source": [
        "import itertools\n",
        "import pprint\n",
        "import numpy as np"
      ]
    },
    {
      "cell_type": "markdown",
      "metadata": {
        "id": "3_-exlrTgLd-"
      },
      "source": [
        "## Pregunta 1\n",
        "\n",
        "**(*)¿Cuantas posibilidades hay sin tener en cuenta las restricciones?**\n",
        "\n",
        "Teniendo en cuneta que no hay restricciones, el problema carece un poco de sentido, pero se puede analizar teniendo en cuenta lo siguiente:\n",
        "\n",
        "1. Se puede repetir números\n",
        "2. Se puede repetir operadores\n",
        "3. Se pueden obtener números reales\n",
        "\n",
        "Por ejemplo, podriamos tener 9/9/9/9/9 = 1/81\n",
        "\n",
        "En ese caso, tendríamos un ejemplo de Variacion con repetición, que se ajusta a la siguiente ecuación : $$VR_{n,x} = n^x$$\n",
        "\n",
        "Siendo n el número de elementos del conjunto\n",
        "Siendo x el número de elementos seleccionados del conjunto\n",
        "\n",
        "Por ejemplo, para los números tendríamos : $$VR_{9,5} = 9^5 = 59049$$\n",
        "\n",
        "Para el caso de los operadores tendríamos : $$VR_{4,4} = 4^4= 256$$\n",
        "\n",
        "Por lo tanto el número máximo de combinaciones sería : $$VR_{9,5} * VR_{4,4} = 15116544$$\n",
        "\n",
        "\n",
        "\n",
        "**¿Cuantas posibilidades hay teniendo en cuenta todas las restricciones.**\n",
        "\n",
        "Si tenemos en cuenta las restricciones habrá que tener en cuenta:\n",
        "\n",
        "1. No se pueden repetir números en una operación\n",
        "2. No se pueden repetir operadores\n",
        "\n",
        "En este caso, tendríamos variaciones sin repetición, ya que el orden si que importa.\n",
        "\n",
        "Para los números : $$V_{9,5} = \\frac{9!}{(9-5)!} = 15120$$\n",
        "\n",
        "Sin embargo, para los signos es un caso distinto, ya que en este caso usamos todos los signos, no se pueden repetir y además el orden importa. Es por esto que llegamos a la conclusión de que necesitamos una permutación sin repetición:\n",
        "\n",
        "Para los operandos : $$P_{4} = 4! = 24$$\n",
        "\n",
        "En total, para un caso donde se tienen en cuenta las restricciones tendríamos un total de combinaciones igual a : $$V_{9,5} * P_{4} = 362880$$\n",
        "\n",
        "Sin embargo, este número no es exacto, ya que hay una tercera restricción que no estamos teniendo en cuenta y esta es que el número del resultado debe de ser un **número entero** por lo tanto, esta cifra se reduciria.\n",
        "\n",
        "\n",
        "\n",
        "\n"
      ]
    },
    {
      "cell_type": "markdown",
      "metadata": {
        "id": "dzynfVJahHoY"
      },
      "source": [
        "# Modelo para el espacio de soluciones\n",
        "\n",
        "## Pregunta 2\n",
        "**(*) ¿Cual es la estructura de datos que mejor se adapta al problema? Argumentalo.(Es posible que hayas elegido una al principio y veas la necesidad de cambiar, argumentalo)**\n",
        "\n",
        "Para este ejercicio, podríamos modelar el problema a través de grafos, para desocmponer todas las posibles soluciones en forma de un arbol y comprobar que ramas tienen una solución factible según las restricciones.\n"
      ]
    },
    {
      "cell_type": "markdown",
      "metadata": {
        "id": "7Z9U2W7bi-XS"
      },
      "source": [
        "# Según el modelo para el espacio de soluciones\n",
        "\n",
        "## Pregunta 3\n",
        "**(*)¿Cual es la función objetivo?**\n",
        "\n",
        "Teniendo en cuenta que este es un problema considerado como *¨problema de búsqueda¨* y no tanto un problema de optimización... Se podría definir la función objetivo como:\n",
        "\n",
        "$$V1 + S1 + V2 + S2 + V3 + S3 + V4 + S4 + V5$$\n",
        "\n",
        "Donde V* indica el valor numérico a encontrar y S* indica el operando.\n",
        "\n",
        "## Pregunta 4\n",
        "**(*)¿Es un problema de maximización o minimización?**\n",
        "\n",
        "En realidad, es un problema tanto de minimización como de maximización, ya que una de las soluciones que hay que entregar en el ejercicio es el máximo y el mínimo que se puede conseguir con las combinaciones de estos números.\n",
        "\n",
        "Una forma lógica de abordar este problema para encontrar un valor máximo por ejemplo sería la siguiente:\n",
        "\n",
        "$$V1 * V2 + V3 - V4 / V5$$\n",
        "\n",
        "Con la siguiente restricción :\n",
        "\n",
        "$$V1 > V2 > V3 > V5 > V4$$\n",
        "\n",
        "Esto tiene sentido, ya que los dos primeros se están multiplicando y sumando con otro número. Estos tres numeros en su conjunto conseguirán un resultado ¨grande¨ al cual se le tendrá que restar el número más pequeño de los 5 (V4) que estará dividido por un número superior a el (V4) lo cual haría el término V4/V5 pequeño en comparación con V1*V2+V3"
      ]
    },
    {
      "cell_type": "markdown",
      "metadata": {
        "id": "rlnTYgY1j6I2"
      },
      "source": [
        "# Diseña un algoritmo para resolver el problema por fuerza bruta"
      ]
    },
    {
      "cell_type": "code",
      "execution_count": 2,
      "metadata": {
        "colab": {
          "base_uri": "https://localhost:8080/"
        },
        "id": "_SZLzCy5pw0z",
        "outputId": "fbaef569-26a2-4f24-ef66-5149f5651da0"
      },
      "outputs": [
        {
          "output_type": "stream",
          "name": "stdout",
          "text": [
            "El valor máximo es:  59049\n",
            "El valor mínimo es:  -6560\n",
            "Se realizaron  15116544  iteraciones\n"
          ]
        }
      ],
      "source": [
        "soluciones = []\n",
        "signos = ['+', '-', '*', '/']\n",
        "min = 9999999\n",
        "max = -9999999\n",
        "\n",
        "counter = 0\n",
        "\n",
        "for v1 in range(1,10,1):\n",
        "    for s1 in signos:\n",
        "        for v2 in range(1,10,1):\n",
        "            for s2 in signos:\n",
        "                for v3 in range(1,10,1):\n",
        "                    for s3 in signos:\n",
        "                        for v4 in range(1,10,1):\n",
        "                            for s4 in signos:\n",
        "                                for v5 in range(1,10,1):\n",
        "                                    solucion = [v1,s1,v2,s2,v3,s3,v4,s4,v5]\n",
        "                                    counter += 1\n",
        "                                    resultado = eval(str(solucion[0])+solucion[1]+str(solucion[2])+solucion[3]+str(solucion[4])+solucion[5]+str(solucion[6])+solucion[7]+str(solucion[8]))\n",
        "\n",
        "                                    if resultado > max:\n",
        "                                        max = resultado\n",
        "                                    elif resultado < min:\n",
        "                                        min = resultado\n",
        "print(\"El valor máximo es: \", max)\n",
        "print(\"El valor mínimo es: \", min)\n",
        "print(\"Se realizaron \", counter, \" iteraciones\")"
      ]
    },
    {
      "cell_type": "markdown",
      "metadata": {
        "id": "kEyvx8gEpw01"
      },
      "source": [
        "**Calcula la complejidad del algoritmo por fuerza bruta**\n",
        "\n",
        "Como se puede comprobar, la complejidad del algoritmo depende de la anidaciór de bucles for, en este caso, de 9 bucles. Por lo tanto la complejidad del algorítmo será :\n",
        "\n",
        "$$O(n^9)$$"
      ]
    },
    {
      "cell_type": "markdown",
      "metadata": {
        "id": "txbrmLmskReM"
      },
      "source": [
        "## Pregunta 5\n",
        "**(*)Diseña un algoritmo que mejore la complejidad del algortimo por fuerza bruta. Argumenta porque crees que mejora el algoritmo por fuerza bruta**\n",
        "\n",
        "El siguiente algoritmo es simplemente una versión simplificada del anterior para el cual hemos utilizado la libreria core de python llamada itertools que permite obtener las permutaciones de los elementos.\n",
        "\n",
        "Esta libreria esta optimizada para realizar las combinaciones de manera más eficientes que utilizando la anidación de bucles for. Y esto se puede comprobar al mirar los tiempos de ejecución, donde se puede apreciar que para el caso de los bucles hemos tardado del orden de 3.5 min (google collabs) y de 2 minutos (en local) en obtener todas las combinaciones y en el caso de la libreria tardamos del orden de 3.5s\n",
        "\n",
        "Además, hemos metido restricciones en el algoritmos para quedarnos solo con los resultados enteros y descartar así los números con decimales... Esta es la única optimización que se ha hecho al algoritmo para este ejercicio."
      ]
    },
    {
      "cell_type": "code",
      "execution_count": 3,
      "metadata": {
        "id": "vp5rgQ_Ppw02"
      },
      "outputs": [],
      "source": [
        "def get_combinations():\n",
        "    # definir los números y operadores\n",
        "    numbers = ['1', '2', '3', '4', '5', '6', '7', '8', '9']\n",
        "    operators = ['+', '-', '*', '/']\n",
        "\n",
        "    # encontrar todas las permutaciones posibles de números y operadores\n",
        "    perms_num = list(itertools.permutations(numbers, 5))\n",
        "    perms_ops = list(itertools.permutations(operators))\n",
        "\n",
        "    max_val = None\n",
        "    min_val = None\n",
        "    possible_expressions = []\n",
        "    possible_values = []\n",
        "\n",
        "    for perm_num in perms_num:\n",
        "        for perm_ops in perms_ops:\n",
        "            # intercalar operadores entre números\n",
        "            equation = ''.join(itertools.chain(*zip(perm_num, perm_ops), perm_num[len(perm_ops):]))\n",
        "\n",
        "            try:\n",
        "                result = eval(equation)\n",
        "                # redondeamos el resultado para conseguir enteros\n",
        "                result_rounded = round(result)\n",
        "\n",
        "                # ignoramos los resultados que no son enteros\n",
        "                if result == result_rounded:\n",
        "                    if max_val is None or result > max_val:\n",
        "                        max_val = result\n",
        "                    if min_val is None or result < min_val:\n",
        "                        min_val = result\n",
        "                    possible_expressions.append(equation)\n",
        "                    possible_values.append(result)\n",
        "            except ZeroDivisionError:\n",
        "                # ignorar divisiones por cero\n",
        "                continue\n",
        "\n",
        "    return min_val, max_val, possible_expressions, possible_values"
      ]
    },
    {
      "cell_type": "code",
      "execution_count": 4,
      "metadata": {
        "colab": {
          "base_uri": "https://localhost:8080/"
        },
        "id": "j8PmHSKBpw02",
        "outputId": "77789c78-b5b3-450b-dd54-354fb7150577"
      },
      "outputs": [
        {
          "output_type": "stream",
          "name": "stdout",
          "text": [
            "El valor mínimo es: -69.0\n",
            "El valor máximo es: 77.0\n",
            "Hay 90000 expresiones posibles\n"
          ]
        }
      ],
      "source": [
        "min_val, max_val, possible_expressions, possible_values = get_combinations()\n",
        "\n",
        "print('El valor mínimo es: {}'.format(min_val))\n",
        "print('El valor máximo es: {}'.format(max_val))\n",
        "print('Hay {} expresiones posibles'.format(len(possible_expressions)))"
      ]
    },
    {
      "cell_type": "code",
      "execution_count": 5,
      "metadata": {
        "id": "CCQNDAp9pw03"
      },
      "outputs": [],
      "source": [
        "def get_expressions_for_number(number, possible_expressions, possible_values):\n",
        "    expressions = []\n",
        "    for i in range(len(possible_expressions)):\n",
        "        if possible_values[i] == number:\n",
        "            expressions.append(possible_expressions[i])\n",
        "    return expressions"
      ]
    },
    {
      "cell_type": "markdown",
      "metadata": {
        "id": "eGDB4K6uk1iN"
      },
      "source": [
        "## Pregunta 6\n",
        "**(*)Calcula la complejidad del algoritmo**\n",
        "\n",
        "En este caso, la complejidad del algoritmo dependerá en primer lugar de la complejidad de la función itertools.permutations, la cual se usa en dos casos para realizar una asignación (operación básica de complejidad).\n",
        "\n",
        "Una vez se hacen estas asignaciones, tenemos dos bucles anidados, entonces podemos ver que la complejidad máxima tendería a ser :\n",
        "\n",
        "$$O(n^2)$$\n",
        "\n",
        "Donde se hacen operaciones básicas de comprobaciones lógicas y asignaciones a variables."
      ]
    },
    {
      "cell_type": "markdown",
      "metadata": {
        "id": "3M6QjTsSkmYe"
      },
      "source": [
        "# Según el problema (y tenga sentido), diseña un juego de datos de entrada aleatorios"
      ]
    },
    {
      "cell_type": "code",
      "execution_count": 6,
      "metadata": {
        "colab": {
          "base_uri": "https://localhost:8080/"
        },
        "id": "FA0_tGA5pw03",
        "outputId": "9ead2210-1e4a-495b-e8b0-bfb484c023f1"
      },
      "outputs": [
        {
          "output_type": "stream",
          "name": "stdout",
          "text": [
            "Para el número 6 hay 2200 expresiones posibles\n",
            "Para el número 2 hay 1688 expresiones posibles\n",
            "Para el número 1 hay 2008 expresiones posibles\n",
            "Para el número 9 hay 2584 expresiones posibles\n",
            "Para el número 3 hay 1952 expresiones posibles\n"
          ]
        }
      ],
      "source": [
        "# Creamos una lista de numeros enteros aleatorios\n",
        "random_numbers = np.random.randint(1, 10, 5)\n",
        "\n",
        "for number in random_numbers:\n",
        "    expressions = get_expressions_for_number(number, possible_expressions, possible_values)\n",
        "    print('Para el número {} hay {} expresiones posibles'.format(number, len(expressions)))"
      ]
    },
    {
      "cell_type": "code",
      "execution_count": 11,
      "metadata": {
        "colab": {
          "base_uri": "https://localhost:8080/"
        },
        "id": "gzIsA45spw03",
        "outputId": "3d8ae8ee-1bb0-4c81-b484-d061adda55a7"
      },
      "outputs": [
        {
          "output_type": "stream",
          "name": "stdout",
          "text": [
            "Para el número [1] hay 2008 expresiones posibles\n",
            "Aqui podemos ver las primeras 10 soluciones\n",
            "['1+2-3*4/6',\n",
            " '1-2+3*4/6',\n",
            " '1+2-3/6*4',\n",
            " '1+2/3*6-4',\n",
            " '1-2+3/6*4',\n",
            " '1-2/3*6+4',\n",
            " '1+2-3*6/9',\n",
            " '1-2+3*6/9',\n",
            " '1*2-3+8/4',\n",
            " '1+2-3/9*6']\n"
          ]
        }
      ],
      "source": [
        "# Creamos una lista de numeros enteros aleatorios\n",
        "random_number = np.random.randint(1, 10, 1)\n",
        "\n",
        "expressions = get_expressions_for_number(random_number, possible_expressions, possible_values)\n",
        "print('Para el número {} hay {} expresiones posibles'.format(random_number, len(expressions)))\n",
        "\n",
        "print('Aqui podemos ver las primeras 10 soluciones')\n",
        "pprint.pprint(expressions[0:10])"
      ]
    },
    {
      "cell_type": "markdown",
      "metadata": {
        "id": "eTFWUJQrtGcv"
      },
      "source": [
        "# Enumera las referencias que has utilizado(si ha sido necesario) para llevar a cabo el trabajo\n",
        "\n",
        "Para realizar este ejercicio me he basado en lo visto en clase y en la documentación de la libreria [itertools](https://docs.python.org/3/library/itertools.html#itertools.permutations)"
      ]
    },
    {
      "cell_type": "markdown",
      "metadata": {
        "id": "kAkDPUyRtYyH"
      },
      "source": [
        "# Describe brevemente las lineas de como crees que es posible avanzar en el estudio del problema. Ten en cuenta incluso posibles variaciones del problema y/o variaciones al alza del tamaño\n",
        "\n",
        "Dependiendo del objetivo en el que queramos centrarnos del ejercicios. Por ejemplo, en caso de querer encontrar un máximo o un mínimo, podríamos aplicar \"ramificación y poda\" para calcular los límites superiores o inferiores (depende de cada caso) en cada rama y comprobar de antemano si se encontrará un máximo o un mínimo en esa rama y así poder evaluar si merece la pena explorarla."
      ]
    }
  ],
  "metadata": {
    "colab": {
      "provenance": [],
      "include_colab_link": true
    },
    "kernelspec": {
      "display_name": "Python 3",
      "name": "python3"
    },
    "language_info": {
      "codemirror_mode": {
        "name": "ipython",
        "version": 3
      },
      "file_extension": ".py",
      "mimetype": "text/x-python",
      "name": "python",
      "nbconvert_exporter": "python",
      "pygments_lexer": "ipython3",
      "version": "3.10.9"
    }
  },
  "nbformat": 4,
  "nbformat_minor": 0
}