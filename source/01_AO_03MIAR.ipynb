{
 "cells": [
  {
   "attachments": {},
   "cell_type": "markdown",
   "id": "5bae1ac7",
   "metadata": {},
   "source": [
    "<font color=\"#002856\"><h1 align=\"left\">Algoritmos de optimización</h1></font>\n",
    "<font color=\"#002856\"><h2 align=\"left\">VC-1 Introducción a los algoritmos</h2></font> \n",
    "\n",
    "#### Profesor: Juan Francisco Vallalta Rueda\n",
    "---"
   ]
  },
  {
   "attachments": {},
   "cell_type": "markdown",
   "id": "d6a8c0a8",
   "metadata": {},
   "source": [
    "# Medir el tiempo de ejecución"
   ]
  },
  {
   "attachments": {},
   "cell_type": "markdown",
   "id": "e37d9b38",
   "metadata": {},
   "source": [
    "Medir el tiempo de ejecución de un programa es una tarea muy importante, ya que programar no sólo consiste en crear código que funcione, sino código que pueda ser ejecutado en un tiempo razonable.\n",
    "\n",
    "La librería **time** nos permite medir el tiempo de ejecución en Python, utilizando el método  `time()`."
   ]
  },
  {
   "cell_type": "code",
   "execution_count": 1,
   "id": "dc20e4d2",
   "metadata": {},
   "outputs": [
    {
     "name": "stdout",
     "output_type": "stream",
     "text": [
      "10.009111166000366\n"
     ]
    }
   ],
   "source": [
    "# Medida del tiempo de ejecucion con time\n",
    "import time\n",
    "inicio = time.time()\n",
    "\n",
    "# Código a medir\n",
    "time.sleep(10)\n",
    "# -------------\n",
    "\n",
    "fin = time.time()\n",
    "print(fin-inicio) # 1.0005340576171875"
   ]
  },
  {
   "attachments": {},
   "cell_type": "markdown",
   "id": "52b5fc0a",
   "metadata": {},
   "source": [
    "# Generación de números enteros aleatorios "
   ]
  },
  {
   "cell_type": "code",
   "execution_count": 9,
   "id": "ca5148de",
   "metadata": {},
   "outputs": [
    {
     "name": "stdout",
     "output_type": "stream",
     "text": [
      "[220, 295, 927, 324, 600, 252, 633, 867, 97, 92, 552, 937, 455, 868, 620, 511, 984, 562, 295, 760, 460, 383, 929, 642, 572, 34, 591, 813, 262, 513, 163, 933, 471, 532, 808, 127, 837, 789, 164, 523, 772, 792, 694, 948, 855, 571, 973, 821, 384, 188, 366, 317, 553, 712, 166, 827, 6, 833, 902, 822, 7, 685, 323, 484, 800, 508, 642, 1, 191, 158, 273, 751, 312, 564, 816, 266, 722, 340, 680, 442, 693, 796, 525, 756, 925, 117, 85, 362, 50, 581, 410, 545, 593, 158, 481, 960, 339, 937, 949, 499]\n"
     ]
    }
   ],
   "source": [
    "# Mödulo random\n",
    "import random\n",
    "\n",
    "# Inicialización del rango de números a generar\n",
    "inicio= 0\n",
    "fin = 1000\n",
    "cantidad = 100\n",
    "\n",
    "# Lista de números aleatorios\n",
    "numeros_aleatorios = [random.randint(inicio,fin) for i in range(cantidad)]\n",
    "print(numeros_aleatorios)"
   ]
  },
  {
   "attachments": {},
   "cell_type": "markdown",
   "id": "c43d5913",
   "metadata": {},
   "source": [
    "# Ejercicios\n",
    "\n",
    "## Implementa  el algoritmo de Euclides para el cálculo del máximo común divisor de dos números enteros"
   ]
  },
  {
   "cell_type": "code",
   "execution_count": 10,
   "id": "af0a8a64",
   "metadata": {},
   "outputs": [],
   "source": [
    "# Algoritmos de Euclides. \n",
    "\n",
    "def mcd(a, b):\n",
    "    while b != 0:\n",
    "        mcd = b\n",
    "        b = a % b\n",
    "        a = mcd\n",
    "    return mcd\n",
    "\n"
   ]
  },
  {
   "cell_type": "code",
   "execution_count": 12,
   "id": "81bea47d",
   "metadata": {},
   "outputs": [
    {
     "name": "stdout",
     "output_type": "stream",
     "text": [
      "El mcd de 220 y 221 es 1\n",
      "El mcd de 295 y 296 es 1\n",
      "El mcd de 927 y 928 es 1\n",
      "El mcd de 324 y 325 es 1\n",
      "El mcd de 600 y 601 es 1\n",
      "El mcd de 252 y 253 es 1\n",
      "El mcd de 633 y 634 es 1\n",
      "El mcd de 867 y 868 es 1\n",
      "El mcd de 97 y 98 es 1\n",
      "El mcd de 92 y 93 es 1\n",
      "El mcd de 552 y 553 es 1\n",
      "El mcd de 937 y 938 es 1\n",
      "El mcd de 455 y 456 es 1\n",
      "El mcd de 868 y 869 es 1\n",
      "El mcd de 620 y 621 es 1\n",
      "El mcd de 511 y 512 es 1\n",
      "El mcd de 984 y 985 es 1\n",
      "El mcd de 562 y 563 es 1\n",
      "El mcd de 295 y 296 es 1\n",
      "El mcd de 760 y 761 es 1\n",
      "El mcd de 460 y 461 es 1\n",
      "El mcd de 383 y 384 es 1\n",
      "El mcd de 929 y 930 es 1\n",
      "El mcd de 642 y 643 es 1\n",
      "El mcd de 572 y 573 es 1\n",
      "El mcd de 34 y 35 es 1\n",
      "El mcd de 591 y 592 es 1\n",
      "El mcd de 813 y 814 es 1\n",
      "El mcd de 262 y 263 es 1\n",
      "El mcd de 513 y 514 es 1\n",
      "El mcd de 163 y 164 es 1\n",
      "El mcd de 933 y 934 es 1\n",
      "El mcd de 471 y 472 es 1\n",
      "El mcd de 532 y 533 es 1\n",
      "El mcd de 808 y 809 es 1\n",
      "El mcd de 127 y 128 es 1\n",
      "El mcd de 837 y 838 es 1\n",
      "El mcd de 789 y 790 es 1\n",
      "El mcd de 164 y 165 es 1\n",
      "El mcd de 523 y 524 es 1\n",
      "El mcd de 772 y 773 es 1\n",
      "El mcd de 792 y 793 es 1\n",
      "El mcd de 694 y 695 es 1\n",
      "El mcd de 948 y 949 es 1\n",
      "El mcd de 855 y 856 es 1\n",
      "El mcd de 571 y 572 es 1\n",
      "El mcd de 973 y 974 es 1\n",
      "El mcd de 821 y 822 es 1\n",
      "El mcd de 384 y 385 es 1\n",
      "El mcd de 188 y 189 es 1\n",
      "El mcd de 366 y 367 es 1\n",
      "El mcd de 317 y 318 es 1\n",
      "El mcd de 553 y 554 es 1\n",
      "El mcd de 712 y 713 es 1\n",
      "El mcd de 166 y 167 es 1\n",
      "El mcd de 827 y 828 es 1\n",
      "El mcd de 6 y 7 es 1\n",
      "El mcd de 833 y 834 es 1\n",
      "El mcd de 902 y 903 es 1\n",
      "El mcd de 822 y 823 es 1\n",
      "El mcd de 7 y 8 es 1\n",
      "El mcd de 685 y 686 es 1\n",
      "El mcd de 323 y 324 es 1\n",
      "El mcd de 484 y 485 es 1\n",
      "El mcd de 800 y 801 es 1\n",
      "El mcd de 508 y 509 es 1\n",
      "El mcd de 642 y 643 es 1\n",
      "El mcd de 1 y 2 es 1\n",
      "El mcd de 191 y 192 es 1\n",
      "El mcd de 158 y 159 es 1\n",
      "El mcd de 273 y 274 es 1\n",
      "El mcd de 751 y 752 es 1\n",
      "El mcd de 312 y 313 es 1\n",
      "El mcd de 564 y 565 es 1\n",
      "El mcd de 816 y 817 es 1\n",
      "El mcd de 266 y 267 es 1\n",
      "El mcd de 722 y 723 es 1\n",
      "El mcd de 340 y 341 es 1\n",
      "El mcd de 680 y 681 es 1\n",
      "El mcd de 442 y 443 es 1\n",
      "El mcd de 693 y 694 es 1\n",
      "El mcd de 796 y 797 es 1\n",
      "El mcd de 525 y 526 es 1\n",
      "El mcd de 756 y 757 es 1\n",
      "El mcd de 925 y 926 es 1\n",
      "El mcd de 117 y 118 es 1\n",
      "El mcd de 85 y 86 es 1\n",
      "El mcd de 362 y 363 es 1\n",
      "El mcd de 50 y 51 es 1\n",
      "El mcd de 581 y 582 es 1\n",
      "El mcd de 410 y 411 es 1\n",
      "El mcd de 545 y 546 es 1\n",
      "El mcd de 593 y 594 es 1\n",
      "El mcd de 158 y 159 es 1\n",
      "El mcd de 481 y 482 es 1\n",
      "El mcd de 960 y 961 es 1\n",
      "El mcd de 339 y 340 es 1\n",
      "El mcd de 937 y 938 es 1\n",
      "El mcd de 949 y 950 es 1\n",
      "El mcd de 499 y 500 es 1\n"
     ]
    }
   ],
   "source": [
    "# Prueba del algoritmo\n",
    "\n",
    "for num in numeros_aleatorios:\n",
    "    print(f\"El mcd de %s y %s es %s\" % (num, num+1, mcd(num, num+1)))\n",
    "\n"
   ]
  },
  {
   "attachments": {},
   "cell_type": "markdown",
   "id": "fab2198d",
   "metadata": {},
   "source": [
    "## Implementa el algoritmo de Herón para el cálculo de la raiz cuadrada de un número entero. Calcula la raiz cuadrada de 13 con un error inferior a 0.000001"
   ]
  },
  {
   "cell_type": "code",
   "execution_count": 13,
   "id": "5108153f",
   "metadata": {},
   "outputs": [],
   "source": [
    "# Algoritmo de Herón\n",
    "\n",
    "def heron(c, x):\n",
    "    while True:\n",
    "        y = (x + c/x) / 2\n",
    "        if abs(y - x) < 0.0000000000000001:\n",
    "            return y\n",
    "        x = y\n",
    "\n",
    "\n"
   ]
  },
  {
   "cell_type": "code",
   "execution_count": 14,
   "id": "32bfcfe8",
   "metadata": {},
   "outputs": [
    {
     "name": "stdout",
     "output_type": "stream",
     "text": [
      "La raíz cuadrada de 220 es 14.832396974191326\n",
      "La raíz cuadrada de 295 es 17.17556403731767\n",
      "La raíz cuadrada de 927 es 30.44667469527666\n",
      "La raíz cuadrada de 324 es 18.0\n",
      "La raíz cuadrada de 600 es 24.49489742783178\n",
      "La raíz cuadrada de 252 es 15.874507866387543\n",
      "La raíz cuadrada de 633 es 25.15949125081825\n",
      "La raíz cuadrada de 867 es 29.444863728670914\n",
      "La raíz cuadrada de 97 es 9.848857801796104\n",
      "La raíz cuadrada de 92 es 9.591663046625438\n",
      "La raíz cuadrada de 552 es 23.494680248941464\n",
      "La raíz cuadrada de 937 es 30.610455730027937\n",
      "La raíz cuadrada de 455 es 21.330729007701542\n",
      "La raíz cuadrada de 868 es 29.461839725312473\n",
      "La raíz cuadrada de 620 es 24.899799195977465\n",
      "La raíz cuadrada de 511 es 22.605309110914632\n",
      "La raíz cuadrada de 984 es 31.368774282716245\n",
      "La raíz cuadrada de 562 es 23.706539182259398\n",
      "La raíz cuadrada de 295 es 17.17556403731767\n",
      "La raíz cuadrada de 760 es 27.568097504180443\n",
      "La raíz cuadrada de 460 es 21.447610589527216\n",
      "La raíz cuadrada de 383 es 19.570385790780925\n",
      "La raíz cuadrada de 929 es 30.47950130825634\n",
      "La raíz cuadrada de 642 es 25.337718918639855\n",
      "La raíz cuadrada de 572 es 23.916521486202797\n",
      "La raíz cuadrada de 34 es 5.830951894845301\n",
      "La raíz cuadrada de 591 es 24.310491562286437\n",
      "La raíz cuadrada de 813 es 28.513154858766505\n",
      "La raíz cuadrada de 262 es 16.186414056238647\n",
      "La raíz cuadrada de 513 es 22.64950330581225\n",
      "La raíz cuadrada de 163 es 12.767145334803704\n",
      "La raíz cuadrada de 933 es 30.54504869860253\n",
      "La raíz cuadrada de 471 es 21.702534414210703\n",
      "La raíz cuadrada de 532 es 23.065125189341593\n",
      "La raíz cuadrada de 808 es 28.42534080710379\n",
      "La raíz cuadrada de 127 es 11.269427669584644\n",
      "La raíz cuadrada de 837 es 28.930952282978865\n",
      "La raíz cuadrada de 789 es 28.089143810376278\n",
      "La raíz cuadrada de 164 es 12.806248474865697\n",
      "La raíz cuadrada de 523 es 22.869193252058544\n",
      "La raíz cuadrada de 772 es 27.78488797889961\n",
      "La raíz cuadrada de 792 es 28.142494558940577\n",
      "La raíz cuadrada de 694 es 26.343879744638983\n",
      "La raíz cuadrada de 948 es 30.789608636681304\n",
      "La raíz cuadrada de 855 es 29.24038303442689\n",
      "La raíz cuadrada de 571 es 23.89560629069704\n",
      "La raíz cuadrada de 973 es 31.192947920964443\n",
      "La raíz cuadrada de 821 es 28.653097563788805\n",
      "La raíz cuadrada de 384 es 19.595917942265423\n",
      "La raíz cuadrada de 188 es 13.711309200802088\n",
      "La raíz cuadrada de 366 es 19.131126469708992\n",
      "La raíz cuadrada de 317 es 17.804493814764854\n",
      "La raíz cuadrada de 553 es 23.515952032609697\n",
      "La raíz cuadrada de 712 es 26.68332812825267\n",
      "La raíz cuadrada de 166 es 12.884098726725124\n",
      "La raíz cuadrada de 827 es 28.757607689096808\n",
      "La raíz cuadrada de 6 es 2.449489742783178\n",
      "La raíz cuadrada de 833 es 28.861739379323623\n",
      "La raíz cuadrada de 902 es 30.03331483536241\n",
      "La raíz cuadrada de 822 es 28.670542373662904\n",
      "La raíz cuadrada de 7 es 2.6457513110645907\n",
      "La raíz cuadrada de 685 es 26.1725046566048\n",
      "La raíz cuadrada de 323 es 17.97220075561143\n",
      "La raíz cuadrada de 484 es 22.0\n",
      "La raíz cuadrada de 800 es 28.284271247461902\n",
      "La raíz cuadrada de 508 es 22.538855339169288\n",
      "La raíz cuadrada de 642 es 25.337718918639855\n",
      "La raíz cuadrada de 1 es 1.0\n",
      "La raíz cuadrada de 191 es 13.820274961085254\n",
      "La raíz cuadrada de 158 es 12.569805089976533\n",
      "La raíz cuadrada de 273 es 16.522711641858308\n",
      "La raíz cuadrada de 751 es 27.404379212089445\n",
      "La raíz cuadrada de 312 es 17.663521732655695\n",
      "La raíz cuadrada de 564 es 23.748684174075834\n",
      "La raíz cuadrada de 816 es 28.5657137141714\n",
      "La raíz cuadrada de 266 es 16.30950643030009\n",
      "La raíz cuadrada de 722 es 26.870057685088806\n",
      "La raíz cuadrada de 340 es 18.439088914585774\n",
      "La raíz cuadrada de 680 es 26.076809620810593\n",
      "La raíz cuadrada de 442 es 21.02379604162864\n",
      "La raíz cuadrada de 693 es 26.324893162176366\n",
      "La raíz cuadrada de 796 es 28.21347195933177\n",
      "La raíz cuadrada de 525 es 22.9128784747792\n",
      "La raíz cuadrada de 756 es 27.49545416973504\n",
      "La raíz cuadrada de 925 es 30.4138126514911\n",
      "La raíz cuadrada de 117 es 10.816653826391967\n",
      "La raíz cuadrada de 85 es 9.219544457292887\n",
      "La raíz cuadrada de 362 es 19.02629759044045\n",
      "La raíz cuadrada de 50 es 7.0710678118654755\n",
      "La raíz cuadrada de 581 es 24.103941586387897\n",
      "La raíz cuadrada de 410 es 20.248456731316587\n",
      "La raíz cuadrada de 545 es 23.345235059857504\n",
      "La raíz cuadrada de 593 es 24.351591323771842\n",
      "La raíz cuadrada de 158 es 12.569805089976533\n",
      "La raíz cuadrada de 481 es 21.93171219946131\n",
      "La raíz cuadrada de 960 es 30.983866769659336\n",
      "La raíz cuadrada de 339 es 18.41195263952197\n",
      "La raíz cuadrada de 937 es 30.610455730027937\n",
      "La raíz cuadrada de 949 es 30.805843601498726\n",
      "La raíz cuadrada de 499 es 22.338307903688676\n"
     ]
    }
   ],
   "source": [
    "# Prueba del algoritmo\n",
    "\n",
    "for num in numeros_aleatorios:\n",
    "    print(f\"La raíz cuadrada de %s es %s\" % (num, heron(num, 1)))\n",
    "\n"
   ]
  },
  {
   "attachments": {},
   "cell_type": "markdown",
   "id": "9cbf8561",
   "metadata": {},
   "source": [
    "# Reto VC-1\n",
    "\n",
    "## Implementa el algoritmo de la Criba de Erastótenes para encontrar número primos. Encuentra los números primos entre los 10.000 primeros números naturales"
   ]
  },
  {
   "cell_type": "code",
   "execution_count": 1,
   "id": "288b5db6",
   "metadata": {},
   "outputs": [
    {
     "name": "stdout",
     "output_type": "stream",
     "text": [
      "[2, 3, 5, 7, 11, 13, 17, 19, 23, 29, 31, 37, 41, 43, 47, 53, 59, 61, 67, 71, 73, 79, 83, 89, 97, 101, 103, 107, 109, 113, 127, 131, 137, 139, 149, 151, 157, 163, 167, 173, 179, 181, 191, 193, 197, 199, 211, 223, 227, 229, 233, 239, 241, 251, 257, 263, 269, 271, 277, 281, 283, 293, 307, 311, 313, 317, 331, 337, 347, 349, 353, 359, 367, 373, 379, 383, 389, 397, 401, 409, 419, 421, 431, 433, 439, 443, 449, 457, 461, 463, 467, 479, 487, 491, 499, 503, 509, 521, 523, 541, 547, 557, 563, 569, 571, 577, 587, 593, 599, 601, 607, 613, 617, 619, 631, 641, 643, 647, 653, 659, 661, 673, 677, 683, 691, 701, 709, 719, 727, 733, 739, 743, 751, 757, 761, 769, 773, 787, 797, 809, 811, 821, 823, 827, 829, 839, 853, 857, 859, 863, 877, 881, 883, 887, 907, 911, 919, 929, 937, 941, 947, 953, 967, 971, 977, 983, 991, 997, 1009, 1013, 1019, 1021, 1031, 1033, 1039, 1049, 1051, 1061, 1063, 1069, 1087, 1091, 1093, 1097, 1103, 1109, 1117, 1123, 1129, 1151, 1153, 1163, 1171, 1181, 1187, 1193, 1201, 1213, 1217, 1223, 1229, 1231, 1237, 1249, 1259, 1277, 1279, 1283, 1289, 1291, 1297, 1301, 1303, 1307, 1319, 1321, 1327, 1361, 1367, 1373, 1381, 1399, 1409, 1423, 1427, 1429, 1433, 1439, 1447, 1451, 1453, 1459, 1471, 1481, 1483, 1487, 1489, 1493, 1499, 1511, 1523, 1531, 1543, 1549, 1553, 1559, 1567, 1571, 1579, 1583, 1597, 1601, 1607, 1609, 1613, 1619, 1621, 1627, 1637, 1657, 1663, 1667, 1669, 1693, 1697, 1699, 1709, 1721, 1723, 1733, 1741, 1747, 1753, 1759, 1777, 1783, 1787, 1789, 1801, 1811, 1823, 1831, 1847, 1861, 1867, 1871, 1873, 1877, 1879, 1889, 1901, 1907, 1913, 1931, 1933, 1949, 1951, 1973, 1979, 1987, 1993, 1997, 1999, 2003, 2011, 2017, 2027, 2029, 2039, 2053, 2063, 2069, 2081, 2083, 2087, 2089, 2099, 2111, 2113, 2129, 2131, 2137, 2141, 2143, 2153, 2161, 2179, 2203, 2207, 2213, 2221, 2237, 2239, 2243, 2251, 2267, 2269, 2273, 2281, 2287, 2293, 2297, 2309, 2311, 2333, 2339, 2341, 2347, 2351, 2357, 2371, 2377, 2381, 2383, 2389, 2393, 2399, 2411, 2417, 2423, 2437, 2441, 2447, 2459, 2467, 2473, 2477, 2503, 2521, 2531, 2539, 2543, 2549, 2551, 2557, 2579, 2591, 2593, 2609, 2617, 2621, 2633, 2647, 2657, 2659, 2663, 2671, 2677, 2683, 2687, 2689, 2693, 2699, 2707, 2711, 2713, 2719, 2729, 2731, 2741, 2749, 2753, 2767, 2777, 2789, 2791, 2797, 2801, 2803, 2819, 2833, 2837, 2843, 2851, 2857, 2861, 2879, 2887, 2897, 2903, 2909, 2917, 2927, 2939, 2953, 2957, 2963, 2969, 2971, 2999, 3001, 3011, 3019, 3023, 3037, 3041, 3049, 3061, 3067, 3079, 3083, 3089, 3109, 3119, 3121, 3137, 3163, 3167, 3169, 3181, 3187, 3191, 3203, 3209, 3217, 3221, 3229, 3251, 3253, 3257, 3259, 3271, 3299, 3301, 3307, 3313, 3319, 3323, 3329, 3331, 3343, 3347, 3359, 3361, 3371, 3373, 3389, 3391, 3407, 3413, 3433, 3449, 3457, 3461, 3463, 3467, 3469, 3491, 3499, 3511, 3517, 3527, 3529, 3533, 3539, 3541, 3547, 3557, 3559, 3571, 3581, 3583, 3593, 3607, 3613, 3617, 3623, 3631, 3637, 3643, 3659, 3671, 3673, 3677, 3691, 3697, 3701, 3709, 3719, 3727, 3733, 3739, 3761, 3767, 3769, 3779, 3793, 3797, 3803, 3821, 3823, 3833, 3847, 3851, 3853, 3863, 3877, 3881, 3889, 3907, 3911, 3917, 3919, 3923, 3929, 3931, 3943, 3947, 3967, 3989, 4001, 4003, 4007, 4013, 4019, 4021, 4027, 4049, 4051, 4057, 4073, 4079, 4091, 4093, 4099, 4111, 4127, 4129, 4133, 4139, 4153, 4157, 4159, 4177, 4201, 4211, 4217, 4219, 4229, 4231, 4241, 4243, 4253, 4259, 4261, 4271, 4273, 4283, 4289, 4297, 4327, 4337, 4339, 4349, 4357, 4363, 4373, 4391, 4397, 4409, 4421, 4423, 4441, 4447, 4451, 4457, 4463, 4481, 4483, 4493, 4507, 4513, 4517, 4519, 4523, 4547, 4549, 4561, 4567, 4583, 4591, 4597, 4603, 4621, 4637, 4639, 4643, 4649, 4651, 4657, 4663, 4673, 4679, 4691, 4703, 4721, 4723, 4729, 4733, 4751, 4759, 4783, 4787, 4789, 4793, 4799, 4801, 4813, 4817, 4831, 4861, 4871, 4877, 4889, 4903, 4909, 4919, 4931, 4933, 4937, 4943, 4951, 4957, 4967, 4969, 4973, 4987, 4993, 4999, 5003, 5009, 5011, 5021, 5023, 5039, 5051, 5059, 5077, 5081, 5087, 5099, 5101, 5107, 5113, 5119, 5147, 5153, 5167, 5171, 5179, 5189, 5197, 5209, 5227, 5231, 5233, 5237, 5261, 5273, 5279, 5281, 5297, 5303, 5309, 5323, 5333, 5347, 5351, 5381, 5387, 5393, 5399, 5407, 5413, 5417, 5419, 5431, 5437, 5441, 5443, 5449, 5471, 5477, 5479, 5483, 5501, 5503, 5507, 5519, 5521, 5527, 5531, 5557, 5563, 5569, 5573, 5581, 5591, 5623, 5639, 5641, 5647, 5651, 5653, 5657, 5659, 5669, 5683, 5689, 5693, 5701, 5711, 5717, 5737, 5741, 5743, 5749, 5779, 5783, 5791, 5801, 5807, 5813, 5821, 5827, 5839, 5843, 5849, 5851, 5857, 5861, 5867, 5869, 5879, 5881, 5897, 5903, 5923, 5927, 5939, 5953, 5981, 5987, 6007, 6011, 6029, 6037, 6043, 6047, 6053, 6067, 6073, 6079, 6089, 6091, 6101, 6113, 6121, 6131, 6133, 6143, 6151, 6163, 6173, 6197, 6199, 6203, 6211, 6217, 6221, 6229, 6247, 6257, 6263, 6269, 6271, 6277, 6287, 6299, 6301, 6311, 6317, 6323, 6329, 6337, 6343, 6353, 6359, 6361, 6367, 6373, 6379, 6389, 6397, 6421, 6427, 6449, 6451, 6469, 6473, 6481, 6491, 6521, 6529, 6547, 6551, 6553, 6563, 6569, 6571, 6577, 6581, 6599, 6607, 6619, 6637, 6653, 6659, 6661, 6673, 6679, 6689, 6691, 6701, 6703, 6709, 6719, 6733, 6737, 6761, 6763, 6779, 6781, 6791, 6793, 6803, 6823, 6827, 6829, 6833, 6841, 6857, 6863, 6869, 6871, 6883, 6899, 6907, 6911, 6917, 6947, 6949, 6959, 6961, 6967, 6971, 6977, 6983, 6991, 6997, 7001, 7013, 7019, 7027, 7039, 7043, 7057, 7069, 7079, 7103, 7109, 7121, 7127, 7129, 7151, 7159, 7177, 7187, 7193, 7207, 7211, 7213, 7219, 7229, 7237, 7243, 7247, 7253, 7283, 7297, 7307, 7309, 7321, 7331, 7333, 7349, 7351, 7369, 7393, 7411, 7417, 7433, 7451, 7457, 7459, 7477, 7481, 7487, 7489, 7499, 7507, 7517, 7523, 7529, 7537, 7541, 7547, 7549, 7559, 7561, 7573, 7577, 7583, 7589, 7591, 7603, 7607, 7621, 7639, 7643, 7649, 7669, 7673, 7681, 7687, 7691, 7699, 7703, 7717, 7723, 7727, 7741, 7753, 7757, 7759, 7789, 7793, 7817, 7823, 7829, 7841, 7853, 7867, 7873, 7877, 7879, 7883, 7901, 7907, 7919, 7927, 7933, 7937, 7949, 7951, 7963, 7993, 8009, 8011, 8017, 8039, 8053, 8059, 8069, 8081, 8087, 8089, 8093, 8101, 8111, 8117, 8123, 8147, 8161, 8167, 8171, 8179, 8191, 8209, 8219, 8221, 8231, 8233, 8237, 8243, 8263, 8269, 8273, 8287, 8291, 8293, 8297, 8311, 8317, 8329, 8353, 8363, 8369, 8377, 8387, 8389, 8419, 8423, 8429, 8431, 8443, 8447, 8461, 8467, 8501, 8513, 8521, 8527, 8537, 8539, 8543, 8563, 8573, 8581, 8597, 8599, 8609, 8623, 8627, 8629, 8641, 8647, 8663, 8669, 8677, 8681, 8689, 8693, 8699, 8707, 8713, 8719, 8731, 8737, 8741, 8747, 8753, 8761, 8779, 8783, 8803, 8807, 8819, 8821, 8831, 8837, 8839, 8849, 8861, 8863, 8867, 8887, 8893, 8923, 8929, 8933, 8941, 8951, 8963, 8969, 8971, 8999, 9001, 9007, 9011, 9013, 9029, 9041, 9043, 9049, 9059, 9067, 9091, 9103, 9109, 9127, 9133, 9137, 9151, 9157, 9161, 9173, 9181, 9187, 9199, 9203, 9209, 9221, 9227, 9239, 9241, 9257, 9277, 9281, 9283, 9293, 9311, 9319, 9323, 9337, 9341, 9343, 9349, 9371, 9377, 9391, 9397, 9403, 9413, 9419, 9421, 9431, 9433, 9437, 9439, 9461, 9463, 9467, 9473, 9479, 9491, 9497, 9511, 9521, 9533, 9539, 9547, 9551, 9587, 9601, 9613, 9619, 9623, 9629, 9631, 9643, 9649, 9661, 9677, 9679, 9689, 9697, 9719, 9721, 9733, 9739, 9743, 9749, 9767, 9769, 9781, 9787, 9791, 9803, 9811, 9817, 9829, 9833, 9839, 9851, 9857, 9859, 9871, 9883, 9887, 9901, 9907, 9923, 9929, 9931, 9941, 9949, 9967, 9973]\n"
     ]
    }
   ],
   "source": [
    "# Criba de Erastótenes\n",
    "    \n",
    "def criba_erastotenes(n):\n",
    "    # Generamos una lista con todos los números de 2 hasta n\n",
    "    numeros = [i for i in range(2, n+1)]\n",
    "    # Creamos una lista con los números primos que vamos encontrando\n",
    "    primos = []\n",
    "    # Mientras que la lista de números no esté vacía\n",
    "    while numeros:\n",
    "        # Añadimos el primer número de la lista de números primos\n",
    "        primos.append(numeros[0])\n",
    "        # Eliminamos de la lista de números todos los múltiplos del primer número\n",
    "        numeros = [i for i in numeros if i % numeros[0] != 0]\n",
    "    return primos\n",
    "\n",
    "# Prueba del algoritmo\n",
    "print(criba_erastotenes(10000))\n",
    "    \n",
    "    \n"
   ]
  }
 ],
 "metadata": {
  "kernelspec": {
   "display_name": "Python 3 (ipykernel)",
   "language": "python",
   "name": "python3"
  },
  "language_info": {
   "codemirror_mode": {
    "name": "ipython",
    "version": 3
   },
   "file_extension": ".py",
   "mimetype": "text/x-python",
   "name": "python",
   "nbconvert_exporter": "python",
   "pygments_lexer": "ipython3",
   "version": "3.10.5"
  }
 },
 "nbformat": 4,
 "nbformat_minor": 5
}
