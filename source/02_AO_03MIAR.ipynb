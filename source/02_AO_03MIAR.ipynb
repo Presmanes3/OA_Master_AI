{
 "cells": [
  {
   "attachments": {},
   "cell_type": "markdown",
   "id": "5bae1ac7",
   "metadata": {},
   "source": [
    "<font color=\"#002856\"><h1 align=\"left\">Algoritmos de optimización</h1></font>\n",
    "<font color=\"#002856\"><h2 align=\"left\">VC-2 Diseño de algoritmos</h2></font> \n",
    "\n",
    "#### Profesor: Juan Francisco Vallalta Rueda\n",
    "---"
   ]
  },
  {
   "attachments": {},
   "cell_type": "markdown",
   "id": "d6a8c0a8",
   "metadata": {},
   "source": [
    "# Medir el tiempo de ejecución"
   ]
  },
  {
   "attachments": {},
   "cell_type": "markdown",
   "id": "e37d9b38",
   "metadata": {},
   "source": [
    "Medir el tiempo de ejecución de un programa es una tarea muy importante, ya que programar no sólo consiste en crear código que funcione, sino código que pueda ser ejecutado en un tiempo razonable.\n",
    "\n",
    "La librería **time** nos permite medir el tiempo de ejecución en Python, utilizando el método  `time()`."
   ]
  },
  {
   "cell_type": "code",
   "execution_count": 1,
   "id": "dc20e4d2",
   "metadata": {},
   "outputs": [
    {
     "name": "stdout",
     "output_type": "stream",
     "text": [
      "10.015952348709106\n"
     ]
    }
   ],
   "source": [
    "# Medida del tiempo de ejecucion con time\n",
    "import time\n",
    "inicio = time.time()\n",
    "\n",
    "# Código a medir\n",
    "time.sleep(10)\n",
    "# -------------\n",
    "\n",
    "fin = time.time()\n",
    "print(fin-inicio) # 1.0005340576171875"
   ]
  },
  {
   "attachments": {},
   "cell_type": "markdown",
   "id": "52b5fc0a",
   "metadata": {},
   "source": [
    "# Generación de números enteros aleatorios "
   ]
  },
  {
   "cell_type": "code",
   "execution_count": 6,
   "id": "ca5148de",
   "metadata": {},
   "outputs": [
    {
     "name": "stdout",
     "output_type": "stream",
     "text": [
      "[695, 385, 928, 730, 82, 906, 416, 429, 707, 59, 556, 643, 489, 851, 385, 940, 465, 515, 942, 745, 219, 305, 8, 943, 218, 371, 483, 174, 136, 257, 482, 94, 385, 201, 530, 522, 460, 204, 882, 754, 24, 341, 576, 946, 97, 758, 491, 270, 746, 12, 652, 158, 483, 623, 710, 665, 856, 935, 963, 342, 247, 890, 673, 143, 54, 905, 868, 522, 1, 248, 690, 720, 363, 878, 567, 586, 593, 901, 574, 835, 853, 915, 188, 937, 489, 182, 228, 948, 247, 291, 223, 602, 741, 761, 199, 691, 72, 718, 965, 583]\n"
     ]
    }
   ],
   "source": [
    "# Mödulo random\n",
    "import random\n",
    "\n",
    "# Inicialización del rango de números a generar\n",
    "inicio= 0\n",
    "fin = 1000\n",
    "cantidad = 100\n",
    "\n",
    "# Lista de números aleatorios\n",
    "numeros_aleatorios = [random.randint(inicio,fin) for i in range(cantidad)]\n",
    "print(numeros_aleatorios)"
   ]
  },
  {
   "attachments": {},
   "cell_type": "markdown",
   "id": "c43d5913",
   "metadata": {},
   "source": [
    "# Ejercicios\n",
    "\n",
    "## Implementa  una solución para el problema del cambio de moneda en un sistema monetario con las siguientes monedas: {1, 2, 5, 10, 20 , 50}"
   ]
  },
  {
   "cell_type": "code",
   "execution_count": 17,
   "id": "af0a8a64",
   "metadata": {},
   "outputs": [
    {
     "name": "stdout",
     "output_type": "stream",
     "text": [
      "[1000, 500, 200, 100, 50, 20]\n"
     ]
    }
   ],
   "source": [
    "# Problema de cambio de monedas\n",
    "# Monedas disponibles\n",
    "monedas = [1, 2, 5, 10, 20, 50]\n",
    "\n",
    "# Valor a devolver\n",
    "valor = 1000\n",
    "\n",
    "# Solución\n",
    "solucion = [0 for i in range(len(monedas))]\n",
    "for i in range(len(monedas)):\n",
    "    solucion[i] = valor // monedas[i]\n",
    "\n",
    "print(solucion)\n",
    "\n",
    "\n",
    "\n",
    "\n"
   ]
  },
  {
   "attachments": {},
   "cell_type": "markdown",
   "id": "9cbf8561",
   "metadata": {},
   "source": [
    "# Reto VC-2\n",
    "\n",
    "## Opción 1: Implementa una solución al problema de las 8 reinas en un tablero 8x8"
   ]
  },
  {
   "cell_type": "code",
   "execution_count": 5,
   "id": "288b5db6",
   "metadata": {},
   "outputs": [
    {
     "name": "stdout",
     "output_type": "stream",
     "text": [
      "1 0 0 0 0 0 0 0 0 0 0 0 0 0 0 0 \n",
      "0 0 0 1 0 0 0 0 0 0 0 0 0 0 0 0 \n",
      "0 1 0 0 0 0 0 0 0 0 0 0 0 0 0 0 \n",
      "0 0 0 0 0 0 0 0 0 0 0 0 1 0 0 0 \n",
      "0 0 1 0 0 0 0 0 0 0 0 0 0 0 0 0 \n",
      "0 0 0 0 0 0 0 0 0 1 0 0 0 0 0 0 \n",
      "0 0 0 0 0 0 0 0 0 0 0 1 0 0 0 0 \n",
      "0 0 0 0 0 0 0 0 0 0 0 0 0 0 1 0 \n",
      "0 0 0 0 0 1 0 0 0 0 0 0 0 0 0 0 \n",
      "0 0 0 0 0 0 0 0 0 0 0 0 0 0 0 1 \n",
      "0 0 0 0 0 0 0 0 0 0 0 0 0 1 0 0 \n",
      "0 0 0 0 0 0 0 1 0 0 0 0 0 0 0 0 \n",
      "0 0 0 0 1 0 0 0 0 0 0 0 0 0 0 0 \n",
      "0 0 0 0 0 0 1 0 0 0 0 0 0 0 0 0 \n",
      "0 0 0 0 0 0 0 0 1 0 0 0 0 0 0 0 \n",
      "0 0 0 0 0 0 0 0 0 0 1 0 0 0 0 0 \n"
     ]
    }
   ],
   "source": [
    "\n",
    "# generate a function which is able to solve the problem of the n queens in a chessboard of size n x n\n",
    "\n",
    "global N\n",
    "N = 16\n",
    "\n",
    "def printSolution(board):\n",
    "    for i in range(N):\n",
    "        for j in range(N):\n",
    "            print (board[i][j],end=' ')\n",
    "        print()\n",
    "\n",
    "\n",
    "def is_safe(board, row, col):\n",
    "    # Check this row on left side\n",
    "    for i in range(col):\n",
    "        if board[row][i] == 1:\n",
    "            return False\n",
    "\n",
    "    # Check upper diagonal on left side\n",
    "    for i, j in zip(range(row, -1, -1), range(col, -1, -1)):\n",
    "        if board[i][j] == 1:\n",
    "            return False\n",
    "\n",
    "    # Check lower diagonal on left side\n",
    "    for i, j in zip(range(row, N, 1), range(col, -1, -1)):\n",
    "        if board[i][j] == 1:\n",
    "            return False\n",
    "\n",
    "    return True\n",
    "\n",
    "def solve_n_queen(board, col):\n",
    "    # base case: If all queens are placed\n",
    "    # then return true\n",
    "    if col >= N:\n",
    "        return True\n",
    "\n",
    "    # Consider this column and try placing\n",
    "    # this queen in all rows one by one\n",
    "    for i in range(N):\n",
    "\n",
    "        if is_safe(board, i, col):\n",
    "\n",
    "            # Place this queen in board[i][col]\n",
    "            board[i][col] = 1\n",
    "\n",
    "            # recur to place rest of the queens\n",
    "            if solve_n_queen(board, col + 1) == True:\n",
    "                return True\n",
    "\n",
    "            # If placing queen in board[i][col\n",
    "            # doesn't lead to a solution, then\n",
    "            # queen from board[i][col]\n",
    "            board[i][col] = 0\n",
    "\n",
    "    # if the queen can not be placed in any row in\n",
    "    # this colum col then return false\n",
    "    return False\n",
    "\n",
    "board = [[0 for i in range(N)] for j in range(N)]\n",
    "\n",
    "if(solve_n_queen(board, 0) == False):\n",
    "    print(\"Solution does not exist\")\n",
    "\n",
    "printSolution(board)\n",
    "\n",
    "    \n",
    "    \n",
    "    "
   ]
  },
  {
   "attachments": {},
   "cell_type": "markdown",
   "id": "e0069a3c",
   "metadata": {},
   "source": [
    "## Opción 2: Implementa una solución del problema de las Torres de Hanoi para un número arbitrario n de fichas"
   ]
  },
  {
   "cell_type": "code",
   "execution_count": 7,
   "id": "f55c9247",
   "metadata": {},
   "outputs": [
    {
     "name": "stdout",
     "output_type": "stream",
     "text": [
      "Mover disco de 1 a 3\n",
      "Mover disco de 1 a 2\n",
      "Mover disco de 3 a 2\n",
      "Mover disco de 1 a 3\n",
      "Mover disco de 2 a 1\n",
      "Mover disco de 2 a 3\n",
      "Mover disco de 1 a 3\n"
     ]
    }
   ],
   "source": [
    "# Torres de Hanoy\n",
    "\n",
    "def hanoi(n, origen, auxiliar, destino):\n",
    "    if n == 1:\n",
    "        print(\"Mover disco de %d a %d\" % (origen, destino))\n",
    "    else:\n",
    "        hanoi(n - 1, origen, destino, auxiliar)\n",
    "        print(\"Mover disco de %d a %d\" % (origen, destino))\n",
    "        hanoi(n - 1, auxiliar, origen, destino)\n",
    "\n",
    "hanoi(3, 1, 2, 3)\n",
    "\n",
    "\n",
    "\n"
   ]
  }
 ],
 "metadata": {
  "kernelspec": {
   "display_name": "Python 3 (ipykernel)",
   "language": "python",
   "name": "python3"
  },
  "language_info": {
   "codemirror_mode": {
    "name": "ipython",
    "version": 3
   },
   "file_extension": ".py",
   "mimetype": "text/x-python",
   "name": "python",
   "nbconvert_exporter": "python",
   "pygments_lexer": "ipython3",
   "version": "3.10.5"
  }
 },
 "nbformat": 4,
 "nbformat_minor": 5
}
