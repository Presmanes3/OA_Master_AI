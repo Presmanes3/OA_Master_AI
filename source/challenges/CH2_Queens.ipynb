{
  "nbformat": 4,
  "nbformat_minor": 0,
  "metadata": {
    "colab": {
      "provenance": [],
      "authorship_tag": "ABX9TyNbTB8CNU4qjuLQzPMuH7Gj",
      "include_colab_link": true
    },
    "kernelspec": {
      "name": "python3",
      "display_name": "Python 3"
    },
    "language_info": {
      "name": "python"
    }
  },
  "cells": [
    {
      "cell_type": "markdown",
      "metadata": {
        "id": "view-in-github",
        "colab_type": "text"
      },
      "source": [
        "<a href=\"https://colab.research.google.com/github/Presmanes3/OA_Master_AI/blob/main/source/challenges/CH2_Queens.ipynb\" target=\"_parent\"><img src=\"https://colab.research.google.com/assets/colab-badge.svg\" alt=\"Open In Colab\"/></a>"
      ]
    },
    {
      "cell_type": "code",
      "execution_count": 1,
      "metadata": {
        "id": "UpzzZWOPbKLm",
        "colab": {
          "base_uri": "https://localhost:8080/"
        },
        "outputId": "d5137d9a-4143-4aef-a3d3-326bd58c0345"
      },
      "outputs": [
        {
          "output_type": "stream",
          "name": "stdout",
          "text": [
            "1 0 0 0 0 0 0 0 0 0 0 0 0 0 0 0 \n",
            "0 0 0 1 0 0 0 0 0 0 0 0 0 0 0 0 \n",
            "0 1 0 0 0 0 0 0 0 0 0 0 0 0 0 0 \n",
            "0 0 0 0 0 0 0 0 0 0 0 0 1 0 0 0 \n",
            "0 0 1 0 0 0 0 0 0 0 0 0 0 0 0 0 \n",
            "0 0 0 0 0 0 0 0 0 1 0 0 0 0 0 0 \n",
            "0 0 0 0 0 0 0 0 0 0 0 1 0 0 0 0 \n",
            "0 0 0 0 0 0 0 0 0 0 0 0 0 0 1 0 \n",
            "0 0 0 0 0 1 0 0 0 0 0 0 0 0 0 0 \n",
            "0 0 0 0 0 0 0 0 0 0 0 0 0 0 0 1 \n",
            "0 0 0 0 0 0 0 0 0 0 0 0 0 1 0 0 \n",
            "0 0 0 0 0 0 0 1 0 0 0 0 0 0 0 0 \n",
            "0 0 0 0 1 0 0 0 0 0 0 0 0 0 0 0 \n",
            "0 0 0 0 0 0 1 0 0 0 0 0 0 0 0 0 \n",
            "0 0 0 0 0 0 0 0 1 0 0 0 0 0 0 0 \n",
            "0 0 0 0 0 0 0 0 0 0 1 0 0 0 0 0 \n"
          ]
        }
      ],
      "source": [
        "global N\n",
        "N = 16\n",
        "\n",
        "def printSolution(board):\n",
        "    for i in range(N):\n",
        "        for j in range(N):\n",
        "            print (board[i][j],end=' ')\n",
        "        print()\n",
        "\n",
        "\n",
        "def is_safe(board, row, col):\n",
        "    # Check this row on left side\n",
        "    for i in range(col):\n",
        "        if board[row][i] == 1:\n",
        "            return False\n",
        "\n",
        "    # Check upper diagonal on left side\n",
        "    for i, j in zip(range(row, -1, -1), range(col, -1, -1)):\n",
        "        if board[i][j] == 1:\n",
        "            return False\n",
        "\n",
        "    # Check lower diagonal on left side\n",
        "    for i, j in zip(range(row, N, 1), range(col, -1, -1)):\n",
        "        if board[i][j] == 1:\n",
        "            return False\n",
        "\n",
        "    return True\n",
        "\n",
        "def solve_n_queen(board, col):\n",
        "    # base case: If all queens are placed\n",
        "    # then return true\n",
        "    if col >= N:\n",
        "        return True\n",
        "\n",
        "    # Consider this column and try placing\n",
        "    # this queen in all rows one by one\n",
        "    for i in range(N):\n",
        "\n",
        "        if is_safe(board, i, col):\n",
        "\n",
        "            # Place this queen in board[i][col]\n",
        "            board[i][col] = 1\n",
        "\n",
        "            # recur to place rest of the queens\n",
        "            if solve_n_queen(board, col + 1) == True:\n",
        "                return True\n",
        "\n",
        "            # If placing queen in board[i][col\n",
        "            # doesn't lead to a solution, then\n",
        "            # queen from board[i][col]\n",
        "            board[i][col] = 0\n",
        "\n",
        "    # if the queen can not be placed in any row in\n",
        "    # this colum col then return false\n",
        "    return False\n",
        "\n",
        "board = [[0 for i in range(N)] for j in range(N)]\n",
        "\n",
        "if(solve_n_queen(board, 0) == False):\n",
        "    print(\"Solution does not exist\")\n",
        "\n",
        "printSolution(board)\n",
        "\n",
        "\n",
        "\n",
        ""
      ]
    }
  ]
}