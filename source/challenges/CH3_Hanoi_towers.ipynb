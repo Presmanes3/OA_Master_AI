{
  "nbformat": 4,
  "nbformat_minor": 0,
  "metadata": {
    "colab": {
      "provenance": [],
      "authorship_tag": "ABX9TyP+PS62i3CuHx4HD73TqcmU",
      "include_colab_link": true
    },
    "kernelspec": {
      "name": "python3",
      "display_name": "Python 3"
    },
    "language_info": {
      "name": "python"
    }
  },
  "cells": [
    {
      "cell_type": "markdown",
      "metadata": {
        "id": "view-in-github",
        "colab_type": "text"
      },
      "source": [
        "<a href=\"https://colab.research.google.com/github/Presmanes3/OA_Master_AI/blob/main/source/challenges/CH3_Hanoi_towers.ipynb\" target=\"_parent\"><img src=\"https://colab.research.google.com/assets/colab-badge.svg\" alt=\"Open In Colab\"/></a>"
      ]
    },
    {
      "cell_type": "code",
      "execution_count": null,
      "metadata": {
        "id": "UpzzZWOPbKLm"
      },
      "outputs": [],
      "source": [
        "# Torres de Hanoy\n",
        "\n",
        "def hanoi(n, origen, auxiliar, destino):\n",
        "    if n == 1:\n",
        "        print(\"Mover disco de %d a %d\" % (origen, destino))\n",
        "    else:\n",
        "        hanoi(n - 1, origen, destino, auxiliar)\n",
        "        print(\"Mover disco de %d a %d\" % (origen, destino))\n",
        "        hanoi(n - 1, auxiliar, origen, destino)\n",
        "\n",
        "hanoi(3, 1, 2, 3)\n"
      ]
    }
  ]
}